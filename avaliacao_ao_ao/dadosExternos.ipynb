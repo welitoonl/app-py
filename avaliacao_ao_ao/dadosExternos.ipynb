{
 "cells": [
  {
   "cell_type": "code",
   "execution_count": 1,
   "metadata": {},
   "outputs": [],
   "source": [
    "import pandas as pd\n",
    "import numpy as np"
   ]
  },
  {
   "cell_type": "code",
   "execution_count": 2,
   "metadata": {},
   "outputs": [],
   "source": [
    "## Leitura dos dados externos\n",
    "country = pd.read_json('database/countries.json', orient='index').reset_index()\n",
    "cities = pd.read_json('database/cities.json')"
   ]
  },
  {
   "cell_type": "code",
   "execution_count": 3,
   "metadata": {},
   "outputs": [
    {
     "name": "stderr",
     "output_type": "stream",
     "text": [
      "/tmp/ipykernel_3190/164353650.py:9: FutureWarning: Indexing with multiple keys (implicitly converted to a tuple of keys) will be deprecated, use a list instead.\n",
      "  paisDados = cities.groupby('country')['lat', 'lng'].mean()\n"
     ]
    }
   ],
   "source": [
    "## Tratamento dos dados externos\n",
    "\n",
    "country = country.drop(columns=['native'])\n",
    "country = country[country['index'] == 'US']\n",
    "country['capital'] = 'Washington' # Altera a capital de \"Washington D.C.\" para \"Washington\" para ser relacionado com a cidade da base \"cities\"\n",
    "\n",
    "cities = cities[cities['country'] == 'US']\n",
    "\n",
    "paisDados = cities.groupby('country')['lat', 'lng'].mean()\n",
    "paisDados = paisDados.reset_index()\n",
    "paisDados = paisDados.rename(\n",
    "    columns={\n",
    "        'lat': 'country_lat',\n",
    "        'lng': 'country_lng'\n",
    "    }\n",
    ")\n",
    "country = country.merge(paisDados, left_on='index', right_on='country', how='left')\n",
    "capital = country.merge(cities, left_on=['index','capital'], right_on=['country','name'], how='left')\n",
    "capital = capital.drop(columns=['country_x','country_y','name_y'])\n",
    "capital = capital.rename(columns={\n",
    "    'index': 'pais_sigla',\n",
    "    'name_x': 'country',\n",
    "    'lat': 'capital_lat',\n",
    "    'lng': 'capital_lng'\n",
    "})\n",
    "cities = cities.merge(capital, left_on='country', right_on='pais_sigla', how='left')"
   ]
  },
  {
   "cell_type": "code",
   "execution_count": null,
   "metadata": {},
   "outputs": [],
   "source": [
    "## Adiciona a sigla do estado às informações\n",
    "usStates = pd.read_json('database/estadosUS.feather')\n",
    "usStates\n",
    "usStates = usStates.rename(columns={\n",
    "    'usps': 'estado_sigla',\n",
    "    'name': 'estado'\n",
    "})\n",
    "data = data.merge(usStates, left_on=['State'], right_on=['estado'], how='left')\n",
    "data.drop(columns=['estado'])"
   ]
  }
 ],
 "metadata": {
  "kernelspec": {
   "display_name": "Python 3.8.13 64-bit ('3.8.13')",
   "language": "python",
   "name": "python3"
  },
  "language_info": {
   "codemirror_mode": {
    "name": "ipython",
    "version": 3
   },
   "file_extension": ".py",
   "mimetype": "text/x-python",
   "name": "python",
   "nbconvert_exporter": "python",
   "pygments_lexer": "ipython3",
   "version": "3.8.13"
  },
  "orig_nbformat": 4,
  "vscode": {
   "interpreter": {
    "hash": "110cc1dee26208153f2972f08a2ad52b6a56238dc66d48e87fb757ef2996db56"
   }
  }
 },
 "nbformat": 4,
 "nbformat_minor": 2
}
