{
 "cells": [
  {
   "cell_type": "code",
   "execution_count": null,
   "metadata": {},
   "outputs": [],
   "source": [
    "import pandas as pd\n",
    "import numpy as np\n",
    "data = pd.read_feather('tavbase/gs.feather')"
   ]
  },
  {
   "cell_type": "code",
   "execution_count": 1,
   "metadata": {},
   "outputs": [],
   "source": [
    "def zscore(df, grupo, var, score):\n",
    "    media = df[var].mean()\n",
    "    dpadr = df[var].std()\n",
    "    gr = df.groupby(grupo)[var]\n",
    "    dc = gr.describe()\n",
    "    dc = dc.reset_index()\n",
    "    dc[score] = dc['mean'].apply(lambda x : (x - media) / dpadr)\n",
    "    dcz = dc[[grupo, score]]\n",
    "    df = df.merge(dcz, on=grupo, how='left')\n",
    "    return df"
   ]
  },
  {
   "cell_type": "code",
   "execution_count": 4,
   "metadata": {},
   "outputs": [
    {
     "ename": "NameError",
     "evalue": "name 'data' is not defined",
     "output_type": "error",
     "traceback": [
      "\u001b[0;31m---------------------------------------------------------------------------\u001b[0m",
      "\u001b[0;31mNameError\u001b[0m                                 Traceback (most recent call last)",
      "\u001b[1;32m/workspace/app-py/aula08.ipynb Cell 3\u001b[0m in \u001b[0;36m<cell line: 4>\u001b[0;34m()\u001b[0m\n\u001b[1;32m      <a href='vscode-notebook-cell://welitoonl-apppy-leynqmr9dzv.ws-us67.gitpod.io/workspace/app-py/aula08.ipynb#W2sdnNjb2RlLXJlbW90ZQ%3D%3D?line=1'>2</a>\u001b[0m dimensao \u001b[39m=\u001b[39m \u001b[39m'\u001b[39m\u001b[39mCustomer ID\u001b[39m\u001b[39m'\u001b[39m\n\u001b[1;32m      <a href='vscode-notebook-cell://welitoonl-apppy-leynqmr9dzv.ws-us67.gitpod.io/workspace/app-py/aula08.ipynb#W2sdnNjb2RlLXJlbW90ZQ%3D%3D?line=2'>3</a>\u001b[0m medidas \u001b[39m=\u001b[39m [\u001b[39m'\u001b[39m\u001b[39mSales\u001b[39m\u001b[39m'\u001b[39m, \u001b[39m'\u001b[39m\u001b[39mProfit\u001b[39m\u001b[39m'\u001b[39m, \u001b[39m'\u001b[39m\u001b[39mQuantity\u001b[39m\u001b[39m'\u001b[39m]\n\u001b[0;32m----> <a href='vscode-notebook-cell://welitoonl-apppy-leynqmr9dzv.ws-us67.gitpod.io/workspace/app-py/aula08.ipynb#W2sdnNjb2RlLXJlbW90ZQ%3D%3D?line=3'>4</a>\u001b[0m grupo \u001b[39m=\u001b[39m data\u001b[39m.\u001b[39mgroupby(dimensao)[medidas]\u001b[39m.\u001b[39mmean()\u001b[39m.\u001b[39mreset_index()\n\u001b[1;32m      <a href='vscode-notebook-cell://welitoonl-apppy-leynqmr9dzv.ws-us67.gitpod.io/workspace/app-py/aula08.ipynb#W2sdnNjb2RlLXJlbW90ZQ%3D%3D?line=4'>5</a>\u001b[0m \u001b[39mfor\u001b[39;00m medida \u001b[39min\u001b[39;00m medidas:\n\u001b[1;32m      <a href='vscode-notebook-cell://welitoonl-apppy-leynqmr9dzv.ws-us67.gitpod.io/workspace/app-py/aula08.ipynb#W2sdnNjb2RlLXJlbW90ZQ%3D%3D?line=5'>6</a>\u001b[0m     grupo \u001b[39m=\u001b[39m zscore(grupo, dimensao, medida, \u001b[39m'\u001b[39m\u001b[39mz\u001b[39m\u001b[39m'\u001b[39m\u001b[39m+\u001b[39mmedida)\n",
      "\u001b[0;31mNameError\u001b[0m: name 'data' is not defined"
     ]
    }
   ],
   "source": [
    "## Classificação zscore\n",
    "dimensao = 'Customer ID'\n",
    "medidas = ['Sales', 'Profit', 'Quantity']\n",
    "grupo = data.groupby(dimensao)[medidas].mean().reset_index()\n",
    "for medida in medidas:\n",
    "    grupo = zscore(grupo, dimensao, medida, 'z'+medida)\n",
    "zmedidas = ['z'+med for med in medidas]\n",
    "zgrupo = grupo[zmedidas]\n",
    "grupo['score'] = zgrupo.sum(axis=1)\n",
    "media_score = grupo['score'].mean()\n",
    "dpadr_score = grupo['score'].std()\n",
    "grupo['classe'] = grupo['score'].apply(\n",
    "    lambda x : int((x - media_score) / dpadr_score) + 3\n",
    ")\n",
    "grupo['rank'] = grupo['score'].rank(ascending=False)\n",
    "grupo['lucro'] = grupo['Profit'].apply(lambda x : 0 if x < 0 else 1)\n",
    "grupo\n",
    "\n"
   ]
  },
  {
   "cell_type": "code",
   "execution_count": null,
   "metadata": {},
   "outputs": [],
   "source": []
  }
 ],
 "metadata": {
  "kernelspec": {
   "display_name": "Python 3.8.13 64-bit ('shims')",
   "language": "python",
   "name": "python3"
  },
  "language_info": {
   "codemirror_mode": {
    "name": "ipython",
    "version": 3
   },
   "file_extension": ".py",
   "mimetype": "text/x-python",
   "name": "python",
   "nbconvert_exporter": "python",
   "pygments_lexer": "ipython3",
   "version": "3.8.13"
  },
  "orig_nbformat": 4,
  "vscode": {
   "interpreter": {
    "hash": "9ac03a0a6051494cc606d484d27d20fce22fb7b4d169f583271e11d5ba46a56e"
   }
  }
 },
 "nbformat": 4,
 "nbformat_minor": 2
}
