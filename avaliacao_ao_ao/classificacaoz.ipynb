{
 "cells": [
  {
   "cell_type": "code",
   "execution_count": 1,
   "metadata": {},
   "outputs": [],
   "source": [
    "import pandas as pd\n",
    "import numpy as np \n",
    "data = pd.read_feather('database/base.feather')"
   ]
  },
  {
   "cell_type": "code",
   "execution_count": null,
   "metadata": {},
   "outputs": [],
   "source": [
    "data"
   ]
  },
  {
   "cell_type": "code",
   "execution_count": 3,
   "metadata": {},
   "outputs": [],
   "source": [
    "def zscore(df, grupo, var, score):\n",
    "    media = df[var].mean()\n",
    "    dpadr = df[var].std()\n",
    "    gr = df.groupby(grupo)[var]\n",
    "    dc = gr.describe()\n",
    "    dc = dc.reset_index()\n",
    "    dc[score] = dc['mean'].apply(lambda x : (x - media) / dpadr)\n",
    "    dcz = dc[[grupo, score]]\n",
    "    df = df.merge(dcz, on=grupo, how='left')\n",
    "    return df"
   ]
  },
  {
   "cell_type": "code",
   "execution_count": 4,
   "metadata": {},
   "outputs": [
    {
     "name": "stdout",
     "output_type": "stream",
     "text": [
      "Dimensão ==> Customer ID\n",
      "Dimensão ==> Segment\n",
      "Dimensão ==> Region\n",
      "Dimensão ==> Category\n"
     ]
    }
   ],
   "source": [
    "## Classificacao zcore\n",
    "variaveis_dimensoes = ['Customer ID', 'Segment', 'Region', 'Category']\n",
    "\n",
    "for dimensao in variaveis_dimensoes:\n",
    "    print('Dimensão ==> {}'.format(dimensao))\n",
    "    medidas = ['Sales', 'Profit', 'Quantity', 'Discount', 'Delivery', 'Price']\n",
    "    grupo = data.groupby(dimensao)[medidas].mean().reset_index()\n",
    "    for medida in medidas: \n",
    "        grupo = zscore(grupo, dimensao, medida, 'z'+medida)\n",
    "    zmedidas = ['z'+med for med in medidas]\n",
    "    zgrupo = grupo[zmedidas]\n",
    "    grupo['score'] = zgrupo.sum(axis=1)\n",
    "    media_score = grupo['score'].mean()\n",
    "    dpadr_score = grupo['score'].std()\n",
    "    grupo['classe'] = grupo['score'].apply(lambda x : int((x - media_score) / dpadr_score) + 3)\n",
    "    grupo['rank'] = grupo['score'].rank(ascending=False)\n",
    "    grupo['lucro'] = grupo['Profit'].apply(lambda x : 0 if x < 0 else 1)\n",
    "    grupo.to_feather('database/classificacaoz_{}.feather'.format(dimensao))"
   ]
  }
 ],
 "metadata": {
  "kernelspec": {
   "display_name": "Python 3.8.13 64-bit ('3.8.13')",
   "language": "python",
   "name": "python3"
  },
  "language_info": {
   "codemirror_mode": {
    "name": "ipython",
    "version": 3
   },
   "file_extension": ".py",
   "mimetype": "text/x-python",
   "name": "python",
   "nbconvert_exporter": "python",
   "pygments_lexer": "ipython3",
   "version": "3.8.13 (default, Sep  2 2022, 13:22:26) \n[GCC 9.4.0]"
  },
  "orig_nbformat": 4,
  "vscode": {
   "interpreter": {
    "hash": "110cc1dee26208153f2972f08a2ad52b6a56238dc66d48e87fb757ef2996db56"
   }
  }
 },
 "nbformat": 4,
 "nbformat_minor": 2
}
